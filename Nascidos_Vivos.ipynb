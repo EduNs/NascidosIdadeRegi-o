{
 "cells": [
  {
   "cell_type": "code",
   "execution_count": 3,
   "metadata": {},
   "outputs": [],
   "source": [
    "import pandas as pd\n",
    "import seaborn as sb\n",
    "low_memory=False\n",
    "%matplotlib inline\n",
    "pd.options.display.max_columns = 80\n",
    "pd.options.display.max_rows = 90"
   ]
  },
  {
   "cell_type": "code",
   "execution_count": 42,
   "metadata": {},
   "outputs": [],
   "source": [
    "df_2017 = pd.read_csv(\"Nascidos_2017.csv\", sep=\";\", encoding=\"ISO-8859-1\")\n",
    "df_2016 = pd.read_csv(\"Nascidos_2016.csv\", sep=\";\", encoding=\"ISO-8859-1\")\n",
    "df_2015 = pd.read_csv(\"Nascidos_2015.csv\", sep=\";\", encoding=\"ISO-8859-1\")"
   ]
  },
  {
   "cell_type": "code",
   "execution_count": 178,
   "metadata": {},
   "outputs": [
    {
     "data": {
      "text/html": [
       "<div>\n",
       "<style scoped>\n",
       "    .dataframe tbody tr th:only-of-type {\n",
       "        vertical-align: middle;\n",
       "    }\n",
       "\n",
       "    .dataframe tbody tr th {\n",
       "        vertical-align: top;\n",
       "    }\n",
       "\n",
       "    .dataframe thead th {\n",
       "        text-align: right;\n",
       "    }\n",
       "</style>\n",
       "<table border=\"1\" class=\"dataframe\">\n",
       "  <thead>\n",
       "    <tr style=\"text-align: right;\">\n",
       "      <th></th>\n",
       "      <th>Idade da Mãe</th>\n",
       "      <th>Nordeste</th>\n",
       "      <th>Sudeste</th>\n",
       "    </tr>\n",
       "  </thead>\n",
       "  <tbody>\n",
       "    <tr>\n",
       "      <th>0</th>\n",
       "      <td>10 a 14 anos</td>\n",
       "      <td>8658</td>\n",
       "      <td>5591</td>\n",
       "    </tr>\n",
       "    <tr>\n",
       "      <th>1</th>\n",
       "      <td>15 a 19 anos</td>\n",
       "      <td>154640</td>\n",
       "      <td>147936</td>\n",
       "    </tr>\n",
       "    <tr>\n",
       "      <th>2</th>\n",
       "      <td>20 a 24 anos</td>\n",
       "      <td>215697</td>\n",
       "      <td>267857</td>\n",
       "    </tr>\n",
       "    <tr>\n",
       "      <th>3</th>\n",
       "      <td>25 a 29 anos</td>\n",
       "      <td>189969</td>\n",
       "      <td>278064</td>\n",
       "    </tr>\n",
       "    <tr>\n",
       "      <th>4</th>\n",
       "      <td>30 a 34 anos</td>\n",
       "      <td>150439</td>\n",
       "      <td>256631</td>\n",
       "    </tr>\n",
       "    <tr>\n",
       "      <th>5</th>\n",
       "      <td>35 a 39 anos</td>\n",
       "      <td>78038</td>\n",
       "      <td>157062</td>\n",
       "    </tr>\n",
       "    <tr>\n",
       "      <th>6</th>\n",
       "      <td>40 a 44 anos</td>\n",
       "      <td>18635</td>\n",
       "      <td>36478</td>\n",
       "    </tr>\n",
       "    <tr>\n",
       "      <th>7</th>\n",
       "      <td>45 a 49 anos</td>\n",
       "      <td>1135</td>\n",
       "      <td>2089</td>\n",
       "    </tr>\n",
       "    <tr>\n",
       "      <th>8</th>\n",
       "      <td>50 a 54 anos</td>\n",
       "      <td>83</td>\n",
       "      <td>92</td>\n",
       "    </tr>\n",
       "  </tbody>\n",
       "</table>\n",
       "</div>"
      ],
      "text/plain": [
       "   Idade da Mãe  Nordeste  Sudeste\n",
       "0  10 a 14 anos      8658     5591\n",
       "1  15 a 19 anos    154640   147936\n",
       "2  20 a 24 anos    215697   267857\n",
       "3  25 a 29 anos    189969   278064\n",
       "4  30 a 34 anos    150439   256631\n",
       "5  35 a 39 anos     78038   157062\n",
       "6  40 a 44 anos     18635    36478\n",
       "7  45 a 49 anos      1135     2089\n",
       "8  50 a 54 anos        83       92"
      ]
     },
     "execution_count": 178,
     "metadata": {},
     "output_type": "execute_result"
    }
   ],
   "source": [
    "#f = pd.concat([df_2017, df_2016, df_2015], keys=[\"2017\", \"2016\", \"2015\"])\n",
    "df_2017"
   ]
  }
 ],
 "metadata": {
  "kernelspec": {
   "display_name": "Python 3",
   "language": "python",
   "name": "python3"
  },
  "language_info": {
   "codemirror_mode": {
    "name": "ipython",
    "version": 3
   },
   "file_extension": ".py",
   "mimetype": "text/x-python",
   "name": "python",
   "nbconvert_exporter": "python",
   "pygments_lexer": "ipython3",
   "version": "3.7.0"
  }
 },
 "nbformat": 4,
 "nbformat_minor": 2
}
